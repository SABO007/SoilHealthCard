{
 "cells": [
  {
   "cell_type": "code",
   "execution_count": 1,
   "metadata": {},
   "outputs": [],
   "source": [
    "import pandas as pd\n",
    "# Fertilizer Prediction\n",
    "ferti=pd.read_csv(\"FertilizerData.csv\")"
   ]
  },
  {
   "cell_type": "code",
   "execution_count": 2,
   "metadata": {},
   "outputs": [],
   "source": [
    "# Removing 'Humidity' and 'Soil Type' column\n",
    "ferti=ferti[['Temperature', 'Moisture',\n",
    "       'Crop Type', 'Nitrogen', 'Phosphorous', 'Potassium', 'Fertilizer Name']]"
   ]
  },
  {
   "cell_type": "code",
   "execution_count": 3,
   "metadata": {},
   "outputs": [],
   "source": [
    "from sklearn.preprocessing import LabelEncoder\n",
    "le=LabelEncoder()\n",
    "ferti['Crop Type']=le.fit_transform(ferti['Crop Type'])"
   ]
  },
  {
   "cell_type": "code",
   "execution_count": 4,
   "metadata": {},
   "outputs": [],
   "source": [
    "x = ferti[['Temperature', 'Moisture', 'Crop Type', 'Nitrogen', 'Phosphorous',\n",
    "       'Potassium']]\n",
    "y = ferti['Fertilizer Name']"
   ]
  },
  {
   "cell_type": "code",
   "execution_count": 5,
   "metadata": {},
   "outputs": [],
   "source": [
    "from sklearn.model_selection import train_test_split\n",
    "x_train, x_test, y_train, y_test=train_test_split(x,y,test_size=0.1)"
   ]
  },
  {
   "cell_type": "code",
   "execution_count": 6,
   "metadata": {},
   "outputs": [],
   "source": [
    "from sklearn.preprocessing import MinMaxScaler\n",
    "mms = MinMaxScaler()\n",
    "\n",
    "x_train_sc= mms.fit_transform(x_train)\n",
    "\n",
    "x_test_sc = mms.transform(x_test)"
   ]
  },
  {
   "cell_type": "code",
   "execution_count": 7,
   "metadata": {},
   "outputs": [
    {
     "data": {
      "text/plain": [
       "array(['DAP', 'Urea', '28-28', 'DAP', '14-35-14', 'DAP', 'DAP', '28-28',\n",
       "       'Urea', 'Urea'], dtype=object)"
      ]
     },
     "execution_count": 7,
     "metadata": {},
     "output_type": "execute_result"
    }
   ],
   "source": [
    "from sklearn.ensemble import RandomForestClassifier\n",
    "rfc = RandomForestClassifier(max_depth=14,n_estimators=1000)\n",
    "\n",
    "rfc.fit(x_train_sc,y_train)\n",
    "\n",
    "rfc.predict(x_test_sc)"
   ]
  },
  {
   "cell_type": "code",
   "execution_count": 8,
   "metadata": {},
   "outputs": [],
   "source": [
    "from sklearn.metrics import accuracy_score\n",
    "acc_ferti=accuracy_score(rfc.predict(x_test_sc),y_test)"
   ]
  },
  {
   "cell_type": "code",
   "execution_count": 9,
   "metadata": {},
   "outputs": [],
   "source": [
    "\n",
    "import pickle\n",
    "pickle.dump(rfc, open('model_ferti_prediction.pkl', 'wb'))\n",
    "pickle.dump(mms, open('model_ferti_mms.pkl', 'wb'))\n",
    "pickle.dump(le, open('model_ferti_le.pkl', 'wb'))\n"
   ]
  }
 ],
 "metadata": {
  "kernelspec": {
   "display_name": "Python 3",
   "language": "python",
   "name": "python3"
  },
  "language_info": {
   "codemirror_mode": {
    "name": "ipython",
    "version": 3
   },
   "file_extension": ".py",
   "mimetype": "text/x-python",
   "name": "python",
   "nbconvert_exporter": "python",
   "pygments_lexer": "ipython3",
   "version": "3.11.4"
  },
  "orig_nbformat": 4
 },
 "nbformat": 4,
 "nbformat_minor": 2
}
