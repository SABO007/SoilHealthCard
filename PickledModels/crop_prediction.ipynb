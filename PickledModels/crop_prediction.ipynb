{
 "cells": [
  {
   "cell_type": "code",
   "execution_count": null,
   "metadata": {},
   "outputs": [],
   "source": [
    "import pandas as pd"
   ]
  },
  {
   "cell_type": "code",
   "execution_count": null,
   "metadata": {},
   "outputs": [],
   "source": [
    "\n",
    "crop=pd.read_csv('CropData.csv')\n",
    "\n",
    "crop=crop[['N', 'P', 'K', 'temperature', 'humidity', 'ph',\n",
    "       'rainfall', 'Sand%', 'Clay%', 'Silt%', 'label']]\n",
    "\n",
    "crop=crop[['N', 'P', 'K', 'temperature', 'ph', 'rainfall','label']]"
   ]
  },
  {
   "cell_type": "code",
   "execution_count": null,
   "metadata": {},
   "outputs": [],
   "source": [
    "#Changing rainfall to Moisture\n",
    "crop.rename(columns = {'rainfall':'Moisture','N':'Nitrogen','P':'Phosphorous','K':'Potassium','ph':'pH','temperature':'Temperature'}, inplace = True)"
   ]
  },
  {
   "cell_type": "code",
   "execution_count": null,
   "metadata": {},
   "outputs": [],
   "source": [
    "\n",
    "X=crop[['Temperature','Moisture','Nitrogen', 'Phosphorous', 'Potassium','pH']]\n",
    "Y=crop['label']\n"
   ]
  },
  {
   "cell_type": "code",
   "execution_count": null,
   "metadata": {},
   "outputs": [],
   "source": [
    "\n",
    "from sklearn.model_selection import train_test_split\n",
    "X_train, X_test, Y_train, Y_test=train_test_split(X,Y,test_size=0.2)"
   ]
  },
  {
   "cell_type": "code",
   "execution_count": null,
   "metadata": {},
   "outputs": [],
   "source": [
    "\n",
    "from sklearn.preprocessing import MinMaxScaler\n",
    "mms = MinMaxScaler()\n",
    "X_train_sc= mms.fit_transform(X_train)\n",
    "\n",
    "X_test_sc = mms.transform(X_test)"
   ]
  },
  {
   "cell_type": "code",
   "execution_count": null,
   "metadata": {},
   "outputs": [],
   "source": [
    "\n",
    "from sklearn.ensemble import RandomForestClassifier\n",
    "rfc = RandomForestClassifier(max_depth=14,n_estimators=1000)\n",
    "rfc.fit(X_train_sc, Y_train)\n",
    "\n",
    "from sklearn.metrics import accuracy_score\n",
    "acc_crop=accuracy_score(rfc.predict(X_test_sc),Y_test)"
   ]
  },
  {
   "cell_type": "code",
   "execution_count": null,
   "metadata": {},
   "outputs": [],
   "source": [
    "\n",
    "import pickle\n",
    "pickle.dump(rfc, open('model_crop_prediction.pkl', 'wb'))\n",
    "pickle.dump(mms, open('model_crop_mms.pkl', 'wb'))\n"
   ]
  }
 ],
 "metadata": {
  "kernelspec": {
   "display_name": "Python 3",
   "language": "python",
   "name": "python3"
  },
  "language_info": {
   "codemirror_mode": {
    "name": "ipython",
    "version": 3
   },
   "file_extension": ".py",
   "mimetype": "text/x-python",
   "name": "python",
   "nbconvert_exporter": "python",
   "pygments_lexer": "ipython3",
   "version": "3.11.4"
  },
  "orig_nbformat": 4
 },
 "nbformat": 4,
 "nbformat_minor": 2
}
